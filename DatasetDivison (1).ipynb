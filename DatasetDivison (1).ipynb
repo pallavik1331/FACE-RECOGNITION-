{
  "nbformat": 4,
  "nbformat_minor": 0,
  "metadata": {
    "colab": {
      "provenance": [],
      "gpuType": "T4"
    },
    "kernelspec": {
      "name": "python3",
      "display_name": "Python 3"
    },
    "language_info": {
      "name": "python"
    },
    "accelerator": "GPU"
  },
  "cells": [
    {
      "cell_type": "code",
      "execution_count": 2,
      "metadata": {
        "id": "YDqgcm2X8Mys",
        "colab": {
          "base_uri": "https://localhost:8080/"
        },
        "outputId": "427892ad-08dd-47ab-80c0-b6de0bf1c52e"
      },
      "outputs": [
        {
          "output_type": "stream",
          "name": "stdout",
          "text": [
            "Mounted at /content/drive\n"
          ]
        }
      ],
      "source": [
        "from google.colab import drive\n",
        "drive.mount('/content/drive',force_remount=True)"
      ]
    },
    {
      "cell_type": "code",
      "source": [
        "import os\n",
        "import shutil\n",
        "import numpy as np"
      ],
      "metadata": {
        "id": "IutUVSJIK0uA"
      },
      "execution_count": 3,
      "outputs": []
    },
    {
      "cell_type": "code",
      "source": [
        "dataset_path = '/content/drive/MyDrive/Original'  # Replace with your dataset path\n",
        "train_ratio = 0.8\n",
        "\n",
        "# Get the list of all class directories\n",
        "all_classes = [d for d in os.listdir(dataset_path) if os.path.isdir(os.path.join(dataset_path, d))]\n",
        "\n",
        "# Create directories for the training and testing sets\n",
        "os.makedirs(os.path.join(dataset_path, 'train'), exist_ok=True)\n",
        "os.makedirs(os.path.join(dataset_path, 'test'), exist_ok=True)\n",
        "\n",
        "# Iterate over each class directory\n",
        "for class_dir in all_classes:\n",
        "    # Get the list of all file names in the current class directory\n",
        "    all_files = os.listdir(os.path.join(dataset_path, class_dir))\n",
        "    np.random.shuffle(all_files)\n",
        "\n",
        "    # Calculate the number of files for the training set\n",
        "    train_files_count = int(len(all_files) * train_ratio)\n",
        "\n",
        "    # Create directories for the current class in the training and testing sets\n",
        "    os.makedirs(os.path.join(dataset_path, 'train', class_dir), exist_ok=True)\n",
        "    os.makedirs(os.path.join(dataset_path, 'test', class_dir), exist_ok=True)\n",
        "\n",
        "    # Move the files to the corresponding directories\n",
        "    for i, file in enumerate(all_files):\n",
        "        if i < train_files_count:\n",
        "            shutil.move(os.path.join(dataset_path, class_dir, file), os.path.join(dataset_path, 'train', class_dir, file))\n",
        "        else:\n",
        "            shutil.move(os.path.join(dataset_path, class_dir, file), os.path.join(dataset_path, 'test', class_dir, file))\n",
        "\n",
        "print(\"Splitting of dataset into train and test is completed.\")"
      ],
      "metadata": {
        "id": "6qtVEe_ZLFaf",
        "colab": {
          "base_uri": "https://localhost:8080/"
        },
        "outputId": "b5393a86-c118-4a93-bf02-f39e7bef1390"
      },
      "execution_count": null,
      "outputs": [
        {
          "output_type": "stream",
          "name": "stdout",
          "text": [
            "Splitting of dataset into train and test is completed.\n"
          ]
        }
      ]
    },
    {
      "cell_type": "code",
      "source": [
        "# prompt: oversample each classes in the test and train folder\n",
        "dataset_path='/content/drive/MyDrive/Original'\n",
        "import os\n",
        "import shutil\n",
        "\n",
        "def oversample_classes(dataset_path, split):\n",
        "  \"\"\"\n",
        "  Oversamples each class in the given split of the dataset.\n",
        "\n",
        "  Args:\n",
        "    dataset_path: The path to the dataset directory.\n",
        "    split: The split of the dataset to oversample (e.g., \"train\" or \"test\").\n",
        "  \"\"\"\n",
        "\n",
        "  # Get the list of all class directories in the split\n",
        "  class_dirs = [d for d in os.listdir(os.path.join(dataset_path, split)) if os.path.isdir(os.path.join(dataset_path, split, d))]\n",
        "\n",
        "  # Iterate over each class directory\n",
        "  for class_dir in class_dirs:\n",
        "    # Get the list of all files in the current class directory\n",
        "    files = os.listdir(os.path.join(dataset_path, split, class_dir))\n",
        "\n",
        "    # Calculate the number of times to oversample the class\n",
        "    oversample_factor = len(files) // len(class_dirs)\n",
        "\n",
        "    # Oversample the class by copying the files\n",
        "    for i in range(oversample_factor):\n",
        "      for file in files:\n",
        "        shutil.copyfile(os.path.join(dataset_path, split, class_dir, file), os.path.join(dataset_path, split, class_dir, f\"{file}_{i}\"))\n",
        "\n",
        "# Oversample the train and test splits\n",
        "oversample_classes(dataset_path, \"train\")\n",
        "oversample_classes(dataset_path, \"test\")\n",
        "\n",
        "print(\"Oversampling of classes in the train and test folders is completed.\")\n"
      ],
      "metadata": {
        "id": "Aj53WZHbMLKH",
        "colab": {
          "base_uri": "https://localhost:8080/"
        },
        "outputId": "96c7cc3e-62a8-4766-cc2b-7aee1e1c17ae"
      },
      "execution_count": 5,
      "outputs": [
        {
          "output_type": "stream",
          "name": "stdout",
          "text": [
            "Oversampling of classes in the train and test folders is completed.\n"
          ]
        }
      ]
    },
    {
      "cell_type": "code",
      "source": [],
      "metadata": {
        "id": "5EKFZqwTMKve"
      },
      "execution_count": null,
      "outputs": []
    }
  ]
}